{
 "cells": [
  {
   "cell_type": "code",
   "execution_count": 1,
   "metadata": {},
   "outputs": [
    {
     "name": "stdout",
     "output_type": "stream",
     "text": [
      "Epoch [100/1000], Loss: 0.4865\n",
      "Epoch [200/1000], Loss: 0.4830\n",
      "Epoch [300/1000], Loss: 0.4776\n",
      "Epoch [400/1000], Loss: 0.4680\n",
      "Epoch [500/1000], Loss: 0.4474\n",
      "Epoch [600/1000], Loss: 0.3876\n",
      "Epoch [700/1000], Loss: 0.2414\n",
      "Epoch [800/1000], Loss: 0.1868\n",
      "Epoch [900/1000], Loss: 0.1778\n",
      "Epoch [1000/1000], Loss: 0.1731\n",
      "\n",
      "Predicciones:\n",
      "tensor([[0.4453],\n",
      "        [0.5491],\n",
      "        [0.6488],\n",
      "        [0.7370]])\n"
     ]
    }
   ],
   "source": [
    "import torch\n",
    "import torch.nn as nn\n",
    "import torch.optim as optim\n",
    "\n",
    "# Creamos un conjunto de datos artificial\n",
    "# 4 ejemplos con una característica de entrada cada uno\n",
    "X = torch.tensor([[1.0], [2.0], [3.0], [4.0]])  # Características de entrada\n",
    "y = torch.tensor([[0.0], [0.0], [1.0], [1.0]])  # Etiquetas (0 o 1)\n",
    "\n",
    "# Definimos una clase para la red neuronal con una sola neurona\n",
    "class SimpleNeuron(nn.Module):\n",
    "    def __init__(self):\n",
    "        super(SimpleNeuron, self).__init__()\n",
    "        # Definimos una capa lineal con 1 entrada y 1 salida\n",
    "        self.linear = nn.Linear(1, 1)\n",
    "    \n",
    "    def forward(self, x):\n",
    "        # Pasamos la entrada por la capa lineal y aplicamos la función sigmoide\n",
    "        x = torch.sigmoid(self.linear(x))\n",
    "        return x\n",
    "\n",
    "# Creamos el modelo\n",
    "model = SimpleNeuron()\n",
    "\n",
    "# Definimos el optimizador y la función de pérdida (Error cuadrático medio en este caso)\n",
    "criterion = nn.MSELoss()  # Mean Squared Error para regresión\n",
    "optimizer = optim.SGD(model.parameters(), lr=0.01)  # Descenso de gradiente\n",
    "\n",
    "# Entrenamos la red neuronal\n",
    "num_epochs = 1000\n",
    "for epoch in range(num_epochs):\n",
    "    model.train()\n",
    "\n",
    "    # Forward pass: calcular la predicción\n",
    "    outputs = model(X)\n",
    "    loss = criterion(outputs, y)\n",
    "    \n",
    "    # Backward pass: calcular los gradientes y optimizar\n",
    "    optimizer.zero_grad()\n",
    "    loss.backward()\n",
    "    optimizer.step()\n",
    "\n",
    "    if (epoch + 1) % 100 == 0:\n",
    "        print(f'Epoch [{epoch+1}/{num_epochs}], Loss: {loss.item():.4f}')\n",
    "\n",
    "# Probamos la red neuronal después del entrenamiento\n",
    "model.eval()\n",
    "with torch.no_grad():\n",
    "    predictions = model(X)\n",
    "    print(\"\\nPredicciones:\")\n",
    "    print(predictions)"
   ]
  }
 ],
 "metadata": {
  "kernelspec": {
   "display_name": "Python 3.10.4 ('.venv': venv)",
   "language": "python",
   "name": "python3"
  },
  "language_info": {
   "codemirror_mode": {
    "name": "ipython",
    "version": 3
   },
   "file_extension": ".py",
   "mimetype": "text/x-python",
   "name": "python",
   "nbconvert_exporter": "python",
   "pygments_lexer": "ipython3",
   "version": "3.10.4"
  },
  "orig_nbformat": 4,
  "vscode": {
   "interpreter": {
    "hash": "a3900d995de249f422e7b2008b38dce315cd7c11568238f21e7efde9629037e5"
   }
  }
 },
 "nbformat": 4,
 "nbformat_minor": 2
}
